{
 "cells": [
  {
   "cell_type": "markdown",
   "metadata": {},
   "source": [
    "## Algoritmos de búsquedas:\n",
    "\n",
    "+ 1. Búsqueda en profundidad (DFS)\n",
    "+ 2. Búsqueda en amplitud (BFS)\n",
    "+ 3. Busqueda primero el mejor ( GBFS)\n",
    "+ 4. Busqueda A* ( A estrella)\n",
    "\n",
    "Biblioteca: OSMnx\n",
    "\n",
    "## Objetivos:\n",
    "+ Implementary comprender los fundamentos de los algoritmos de busqueda en grafos.\n",
    "+ Comparar el rendimiento y eficiencia de diferentes algoritmos de búsqueda."
   ]
  },
  {
   "cell_type": "markdown",
   "metadata": {},
   "source": [
    "## Instruccciones\n",
    "\n",
    "\n",
    "+ 1. **Configuración inicial**: Les proporciono un código inicial que carga un grafo de una ubicación específica utilizando OSMnx. Este grafo será la base sobre la cual tendrán que ejecutar sus algoritmos de búsqueda. Este código contiene algunos puntos de la implementación resueltos para que puedan centrarse en la implementación de los algoritmos.\n",
    "+ 2. **Implementación de algoritmos**: Deben implementar los algoritmos de búsqueda DFS, BFS, GBFS y A* en las funciones proporcionadas en el código. La implementación de DFS y BFS es parecida con una pequeña diferencia en sus fronteras que hace que la forma de explorar de ambos sea totalmente diferente. Para GBFS deberán utilizar una función heurística **h(n)** y para A* deberán considerar además de **h(n)** el costo **g(n)**\n",
    "En la implementación tendrán que considerar la distancia entre nodos, pero la librería proporciona información sobre las velocidades máximas en cada calle, lo que nos permitiría calcular tiempos y obtener un camino diferente para la distancia más corta y el menor tiempo, implementar las velocidades es **opcional**.\n",
    "    \n",
    "+ 3. **Ejecución y comparación**: Ejecuten cada algoritmo con nodos de inicio y meta aleatorios en el grafo cargado. Tienen que registrar y comparar la cantidad de nodos explorados y la longitud del camino encontrado para cada algoritmo.\n",
    "+ 4. **Análisis y conclusiones**: ¿Qué algoritmo encuentra el camino más corto en promedio? ¿Cuál explora la menor cantidad de nodos?"
   ]
  },
  {
   "cell_type": "markdown",
   "metadata": {},
   "source": [
    "ACTIVIDAD 1 - BÚSQUEDA (Algoritmos DFS, BFS, Greedy, A*)"
   ]
  },
  {
   "cell_type": "markdown",
   "metadata": {},
   "source": [
    "Librerías que utilizaremos para realizar la actividad:"
   ]
  },
  {
   "cell_type": "code",
   "execution_count": 5,
   "metadata": {},
   "outputs": [],
   "source": [
    "import osmnx as ox\n",
    "import random\n",
    "import heapq"
   ]
  },
  {
   "cell_type": "markdown",
   "metadata": {},
   "source": [
    "## Carga del mapa y estilos\n",
    "\n",
    "Aquí deberán cargar el mapa en la ubicación que deseen, con la funcion python ox.graph_from_place obtendremos un grafo dirigido con la información del mapa, incluidos sus nodos y aristas (calles que unen los nodos)"
   ]
  },
  {
   "cell_type": "code",
   "execution_count": 9,
   "metadata": {},
   "outputs": [],
   "source": [
    "lugar = \"Manhattan, New York, United States\" # Ej: \"Godoy Cruz, Mendoza, Argentina\"\n",
    "G = ox.graph_from_place(lugar, network_type=\"drive\")"
   ]
  },
  {
   "cell_type": "markdown",
   "metadata": {},
   "source": [
    "Funciones para dar estilo al mapa, pueden modificar colores y tamaños de los elementos, o ignorar esta celda si no desean modificar el estilo del mapa."
   ]
  },
  {
   "cell_type": "code",
   "execution_count": 10,
   "metadata": {},
   "outputs": [],
   "source": [
    "def arista_no_visitada(edge):        \n",
    "    G.edges[edge][\"color\"] = \"#22609b\"\n",
    "    G.edges[edge][\"alpha\"] = 0.2\n",
    "    G.edges[edge][\"linewidth\"] = 0.5\n",
    "\n",
    "def arista_visitada(edge):\n",
    "    G.edges[edge][\"color\"] = \"#22609b\"\n",
    "    G.edges[edge][\"alpha\"] = 1\n",
    "    G.edges[edge][\"linewidth\"] = 1\n",
    "\n",
    "def arista_activa(edge):\n",
    "    G.edges[edge][\"color\"] = 'lightblue'\n",
    "    G.edges[edge][\"alpha\"] = 1\n",
    "    G.edges[edge][\"linewidth\"] = 1\n",
    "\n",
    "def arista_solucion(edge):\n",
    "    G.edges[edge][\"color\"] = \"white\"\n",
    "    G.edges[edge][\"alpha\"] = 1\n",
    "    G.edges[edge][\"linewidth\"] = 1"
   ]
  },
  {
   "cell_type": "markdown",
   "metadata": {},
   "source": [
    "Función que modifica el gráfico para aplicar los estilos que vayamos dando a cada nodo o arista"
   ]
  },
  {
   "cell_type": "code",
   "execution_count": 11,
   "metadata": {},
   "outputs": [],
   "source": [
    "\n",
    "def plot_graph():\n",
    "    ox.plot_graph(\n",
    "        G,\n",
    "        node_size =  [ G.nodes[node][\"size\"] for node in G.nodes ],\n",
    "        edge_color = [ G.edges[edge][\"color\"] for edge in G.edges ],\n",
    "        edge_alpha = [ G.edges[edge][\"alpha\"] for edge in G.edges ],\n",
    "        edge_linewidth = [ G.edges[edge][\"linewidth\"] for edge in G.edges ],\n",
    "        node_color = \"white\",\n",
    "        bgcolor = \"#001028\"\n",
    "    )"
   ]
  },
  {
   "cell_type": "markdown",
   "metadata": {},
   "source": [
    "## Implementación de los algoritmos\n",
    "En todos los casos, las funciones recibirán el grafo G, el nodo de inicio y el nodo de la meta\n",
    "\n",
    "\n",
    "### Busqueda no informada"
   ]
  },
  {
   "cell_type": "code",
   "execution_count": 13,
   "metadata": {},
   "outputs": [],
   "source": [
    "def dfs(G, inicio, meta):\n",
    "    # Implementar el algoritmo Depth-First Search\n",
    "    # Pista: utilizar los 5 pasos que vimos en clase para ir explorando los nodos\n",
    "    # 1) Dar estilo a nodos y aristas (estilos iniciales)\n",
    "    # 2) Los nodos presentan son diccionarios con las siguientes claves:\n",
    "    #   - \"y\": coordenadas y del nodo\n",
    "    #   - \"x\": coordenadas x del nodo\n",
    "    #   - \"street_count\": numero de calles que salen del nodo\n",
    "    # 3) Para dar los estilos iniciales, todos los nodos deberian tener un size de 0, a menos que sean el inicio o la meta,\n",
    "    # en ese caso dar un poco mas de tamaño para que sean visibles en el mapa\n",
    "    # 4) Todos los nodos deberán tener un nodo \"padre\" (para el incio, el padre es None)\n",
    "    # 5) Inicializar la frontera con el nodo inicial dentro\n",
    "    # 6) Inicializar lista de nodos explorados\n",
    "    # 7) Bucle principal (revisar teoria)\n",
    "    pass"
   ]
  },
  {
   "cell_type": "code",
   "execution_count": 22,
   "metadata": {},
   "outputs": [],
   "source": [
    "def dfs(G, inicio, meta):\n",
    "    # Paso 1: Dar estilo a nodos y aristas (estilos iniciales)\n",
    "    for nodo in G:\n",
    "        nodo['size'] = 0\n",
    "        nodo['parent'] = None\n",
    "    inicio['size'] = 1\n",
    "    meta['size'] = 1\n",
    "    \n",
    "    # Paso 2: Inicializar la frontera y la lista de nodos explorados\n",
    "    frontera = [inicio]\n",
    "    explorados = set()\n",
    "    \n",
    "    # Paso 3: Bucle principal (DFS)\n",
    "    while frontera:\n",
    "        nodo_actual = frontera.pop()  # Sacar un nodo de la frontera\n",
    "        if nodo_actual == meta:  # Verificar si hemos alcanzado el nodo meta\n",
    "            return reconstruir_camino(inicio, meta)  # Reconstruir el camino desde el inicio hasta la meta\n",
    "        explorados.add(nodo_actual)  # Agregar el nodo actual a los nodos explorados\n",
    "        \n",
    "        # Explorar los nodos vecinos del nodo actual\n",
    "        for vecino in obtener_vecinos(G, nodo_actual):\n",
    "            if vecino not in explorados and vecino not in frontera:\n",
    "                frontera.append(vecino)  # Agregar el vecino a la frontera\n",
    "                vecino['parent'] = nodo_actual  # Establecer el nodo actual como padre del vecino\n",
    "                vecino['size'] = 1  # Incrementar tamaño del nodo para indicar que está en la frontera\n",
    "    \n",
    "    return None  # Si no se encuentra un camino, devolver None"
   ]
  },
  {
   "cell_type": "code",
   "execution_count": 23,
   "metadata": {},
   "outputs": [],
   "source": [
    "def bfs(G, inicio, meta):\n",
    "    # Paso 1: Dar estilo a nodos y aristas (estilos iniciales)\n",
    "    for nodo in G:\n",
    "        nodo['size'] = 0\n",
    "        nodo['parent'] = None\n",
    "    inicio['size'] = 1\n",
    "    meta['size'] = 1\n",
    "    \n",
    "    # Paso 2: Inicializar la frontera y la lista de nodos explorados\n",
    "    frontera = [inicio]\n",
    "    explorados = set()\n",
    "    \n",
    "    # Paso 3: Bucle principal (BFS)\n",
    "    while frontera:\n",
    "        nodo_actual = frontera.pop(0)  # Sacar un nodo de la frontera (usando cola FIFO para BFS)\n",
    "        if nodo_actual == meta:  # Verificar si hemos alcanzado el nodo meta\n",
    "            return reconstruir_camino(inicio, meta)  # Reconstruir el camino desde el inicio hasta la meta\n",
    "        explorados.add(nodo_actual)  # Agregar el nodo actual a los nodos explorados\n",
    "        \n",
    "        # Explorar los nodos vecinos del nodo actual\n",
    "        for vecino in obtener_vecinos(G, nodo_actual):\n",
    "            if vecino not in explorados and vecino not in frontera:\n",
    "                frontera.append(vecino)  # Agregar el vecino a la frontera\n",
    "                vecino['parent'] = nodo_actual  # Establecer el nodo actual como padre del vecino\n",
    "                vecino['size'] = 1  # Incrementar tamaño del nodo para indicar que está en la frontera\n",
    "    \n",
    "    return None  # Si no se encuentra un camino, devolver None\n",
    "\n"
   ]
  },
  {
   "cell_type": "code",
   "execution_count": 24,
   "metadata": {},
   "outputs": [],
   "source": [
    "# Funciones auxiliares\n",
    "def obtener_vecinos(G, nodo):\n",
    "    return [G[vecino] for vecino in G[nodo]]"
   ]
  },
  {
   "cell_type": "code",
   "execution_count": 25,
   "metadata": {},
   "outputs": [],
   "source": [
    "\n",
    "def reconstruir_camino(inicio, meta):\n",
    "    camino = [meta]  # Iniciar el camino con el nodo meta\n",
    "    nodo_actual = meta\n",
    "    while nodo_actual != inicio:\n",
    "        nodo_actual = nodo_actual['parent']  # Obtener el padre del nodo actual\n",
    "        camino.append(nodo_actual)  # Agregar el nodo padre al camino\n",
    "    camino.reverse()  # Revertir el camino para que esté en orden desde el inicio\n",
    "    return camino"
   ]
  },
  {
   "cell_type": "code",
   "execution_count": 14,
   "metadata": {},
   "outputs": [],
   "source": [
    "def bfs(G, inicio, meta):\n",
    "    # Implementar el algoritmo Breadth-First Search\n",
    "    # Pista: este algoritmo es igual que DFS, pero presenta una diferencia en el funcionamiento de la frontera\n",
    "    pass"
   ]
  },
  {
   "cell_type": "markdown",
   "metadata": {},
   "source": [
    "### Búsqueda informada"
   ]
  },
  {
   "cell_type": "code",
   "execution_count": 15,
   "metadata": {},
   "outputs": [],
   "source": [
    "def heuristica(nodo_1, nodo_2):\n",
    "    # Implementar alguna funcion heuristica, ya sea la distancia de Manhattan o la distancia euclideana\n",
    "    \n",
    "    pass"
   ]
  },
  {
   "cell_type": "code",
   "execution_count": 16,
   "metadata": {},
   "outputs": [],
   "source": [
    "def gbfs(G, inicio, meta):\n",
    "    # Implementar el algoritmo Greedy Best-First Search\n",
    "    # Pista: utilizar heapq para controlar la frontera\n",
    "    # en la misma pueden guardar, ademas del nodo, su distancia a la meta (distancia, nodo)\n",
    "    pass\n",
    "     "
   ]
  },
  {
   "cell_type": "code",
   "execution_count": 17,
   "metadata": {},
   "outputs": [],
   "source": [
    "def a_estrella(G, inicio, meta):\n",
    "    # Implementar el algoritmo A*\n",
    "    # Pista: mismo enfoque que GBFS, pero deben implementar el costo de llegar a un nodo específico, ademas de la heurística\n",
    "    pass"
   ]
  },
  {
   "cell_type": "code",
   "execution_count": 7,
   "metadata": {},
   "outputs": [],
   "source": [
    "# Funciones para visualización de aristas\n",
    "def arista_no_visitada(edge):\n",
    "    G.edges[edge][\"color\"] = \"#22609b\"\n",
    "    G.edges[edge][\"alpha\"] = 0.2\n",
    "    G.edges[edge][\"linewidth\"] = 0.5\n",
    "\n",
    "def arista_visitada(edge):\n",
    "    G.edges[edge][\"color\"] = \"#22609b\"\n",
    "    G.edges[edge][\"alpha\"] = 1\n",
    "    G.edges[edge][\"linewidth\"] = 1\n",
    "\n",
    "def arista_activa(edge):\n",
    "    G.edges[edge][\"color\"] = 'lightblue'\n",
    "    G.edges[edge][\"alpha\"] = 1\n",
    "    G.edges[edge][\"linewidth\"] = 1\n",
    "\n",
    "def arista_solucion(edge):\n",
    "    G.edges[edge][\"color\"] = \"white\"\n",
    "    G.edges[edge][\"alpha\"] = 1\n",
    "    G.edges[edge][\"linewidth\"] = 1"
   ]
  },
  {
   "cell_type": "code",
   "execution_count": 8,
   "metadata": {},
   "outputs": [],
   "source": [
    "# Función para graficar el grafo\n",
    "def plot_graph():\n",
    "    ox.plot_graph(\n",
    "        G,\n",
    "        node_size = [ G.nodes[node][\"size\"] for node in G.nodes ],\n",
    "        edge_color = [ G.edges[edge][\"color\"] for edge in G.edges ],\n",
    "        edge_alpha = [ G.edges[edge][\"alpha\"] for edge in G.edges ],\n",
    "        edge_linewidth = [ G.edges[edge][\"linewidth\"] for edge in G.edges ],\n",
    "        node_color = \"white\",\n",
    "        bgcolor = \"#001028\"\n",
    "    )"
   ]
  },
  {
   "cell_type": "code",
   "execution_count": 18,
   "metadata": {},
   "outputs": [],
   "source": [
    "# Código principal\n",
    "lugar = \"Manhattan, New York, United States\"\n",
    "G = ox.graph_from_place(lugar, network_type=\"drive\")"
   ]
  },
  {
   "cell_type": "code",
   "execution_count": 19,
   "metadata": {},
   "outputs": [],
   "source": [
    "# Selecciona el primer y último nodo como inicio y meta\n",
    "inicio = list(G.nodes())[0]\n",
    "meta = list(G.nodes())[-1]"
   ]
  },
  {
   "cell_type": "code",
   "execution_count": 26,
   "metadata": {},
   "outputs": [],
   "source": [
    "# Ejecuta el algoritmo A* y obtiene el camino\n",
    "inicio_hash = hash(inicio)\n",
    "camino = a_estrella(G, inicio_hash, meta)"
   ]
  },
  {
   "cell_type": "code",
   "execution_count": 41,
   "metadata": {},
   "outputs": [],
   "source": [
    "def distancia_manhattan(inicio, meta):\n",
    "    # Cálculo de la distancia Manhattan entre dos nodos\n",
    "    distancia = 0\n",
    "    for coord_ini, coord_meta in zip(inicio.coords, meta.coords):\n",
    "        distancia += abs(coord_ini - coord_meta)\n",
    "    return distancia"
   ]
  },
  {
   "cell_type": "code",
   "execution_count": 44,
   "metadata": {},
   "outputs": [],
   "source": [
    "# Algoritmo A*\n",
    "def a_estrella(G, inicio, meta):\n",
    "    # Inicialización de datos de nodos\n",
    "    nodos_aux = {}\n",
    "    for nodo in G:\n",
    "        nodos_aux[nodo] = {'size': 0, 'parent': None}\n",
    "    nodos_aux[inicio]['size'] = 1\n",
    "    nodos_aux[meta]['size'] = 1\n",
    "\n",
    "    # Frontera y explorados\n",
    "    frontera = [(distancia_manhattan(inicio, meta), inicio)]  # Cola de prioridad\n",
    "    explorados = set()\n",
    "\n",
    "    while frontera:\n",
    "        _, nodo_actual = heapq.heappop(frontera)\n",
    "        if nodo_actual == meta:\n",
    "            return reconstruir_camino(inicio, meta), nodos_aux\n",
    "        explorados.add(nodo_actual)\n",
    "\n",
    "        # Expansión de vecinos\n",
    "        for vecino in obtener_vecinos(G, nodo_actual):\n",
    "            if vecino not in explorados:\n",
    "                costo_camino = G[nodo_actual]['costo'] + 1  # Asumiendo un costo uniforme\n",
    "                if vecino not in [n[1] for n in frontera] or costo_camino < G[vecino]['costo']:\n",
    "                    G[vecino]['costo'] = costo_camino\n",
    "                    G[vecino]['parent'] = nodo_actual\n",
    "                    heapq.heappush(frontera, (costo_camino + distancia_manhattan(vecino, meta), vecino))\n",
    "\n",
    "    return None"
   ]
  },
  {
   "cell_type": "code",
   "execution_count": 36,
   "metadata": {},
   "outputs": [],
   "source": [
    "# Funciones auxiliares\n",
    "def obtener_vecinos(G, nodo):\n",
    "    # Obtención de los vecinos del nodo actual en el grafo\n",
    "    vecinos = []\n",
    "    for edge in G.edges:\n",
    "        if edge.source == nodo:\n",
    "            vecinos.append(edge.target)\n",
    "        elif edge.target == nodo:\n",
    "            vecinos.append(edge.source)\n",
    "    return vecinos"
   ]
  },
  {
   "cell_type": "code",
   "execution_count": 37,
   "metadata": {},
   "outputs": [],
   "source": [
    "def reconstruir_camino(inicio, meta):\n",
    "    # Reconstrucción del camino desde el nodo inicial al final\n",
    "    camino = []\n",
    "    actual = meta\n",
    "    while actual != inicio:\n",
    "        camino.append(actual)\n",
    "        actual = G[actual]['parent']\n",
    "    camino.append(inicio)\n",
    "    camino.reverse()\n",
    "    return camino"
   ]
  },
  {
   "cell_type": "markdown",
   "metadata": {},
   "source": [
    "## Variante 2:\n",
    "\n"
   ]
  },
  {
   "cell_type": "code",
   "execution_count": 49,
   "metadata": {},
   "outputs": [],
   "source": [
    "# Importación de librerías\n",
    "import heapq\n",
    "import hashlib"
   ]
  },
  {
   "cell_type": "code",
   "execution_count": 50,
   "metadata": {},
   "outputs": [],
   "source": [
    "# Definición de la función distancia_manhattan\n",
    "def distancia_manhattan(inicio, meta):\n",
    "    # Cálculo de la distancia Manhattan entre dos nodos\n",
    "    distancia = 0\n",
    "    for coord_ini, coord_meta in zip(inicio.coords, meta.coords):\n",
    "        distancia += abs(coord_ini - coord_meta)\n",
    "    return distancia"
   ]
  },
  {
   "cell_type": "code",
   "execution_count": 51,
   "metadata": {},
   "outputs": [],
   "source": [
    "# Función para obtener el hash de un nodo\n",
    "def obtener_hash(nodo):\n",
    "    hash_md5 = hashlib.md5()\n",
    "    hash_md5.update(str(nodo).encode('utf-8'))\n",
    "    return hash_md5.hexdigest()\n"
   ]
  },
  {
   "cell_type": "code",
   "execution_count": 52,
   "metadata": {},
   "outputs": [],
   "source": [
    "# Algoritmo A*\n",
    "def a_estrella(G, inicio, meta):\n",
    "    # Inicialización de datos de nodos\n",
    "    nodos_aux = {}\n",
    "    for nodo in G:\n",
    "        nodos_aux[nodo] = {'size': 0, 'parent': None}\n",
    "\n",
    "    # Conversión de nodos a hashes\n",
    "    inicio_hash = obtener_hash(inicio)\n",
    "    meta_hash = obtener_hash(meta)\n",
    "\n",
    "    nodos_aux[inicio_hash]['size'] = 1\n",
    "    nodos_aux[meta_hash]['size'] = 1\n",
    "\n",
    "    # Frontera y explorados\n",
    "    frontera = [(distancia_manhattan(inicio, meta), inicio_hash)]  # Cola de prioridad\n",
    "    explorados = set()\n",
    "\n",
    "    while frontera:\n",
    "        _, nodo_actual_hash = heapq.heappop(frontera)\n",
    "        if nodo_actual_hash == meta_hash:\n",
    "            return reconstruir_camino(inicio_hash, meta_hash, nodos_aux), nodos_aux\n",
    "        explorados.add(nodo_actual_hash)\n",
    "\n",
    "        # Expansión de vecinos\n",
    "        for vecino in obtener_vecinos(G, nodo_actual_hash):\n",
    "            if vecino not in explorados:\n",
    "                costo_camino = G[nodo_actual_hash]['costo'] + 1  # Asumiendo un costo uniforme\n",
    "                if vecino not in [n[1] for n in frontera] or costo_camino < G[vecino]['costo']:\n",
    "                    G[vecino]['costo'] = costo_camino\n",
    "                    G[vecino]['parent'] = nodo_actual_hash\n",
    "                    heapq.heappush(frontera, (costo_camino + distancia_manhattan(vecino, meta_hash), vecino))\n",
    "\n",
    "    return None"
   ]
  },
  {
   "cell_type": "code",
   "execution_count": 53,
   "metadata": {},
   "outputs": [],
   "source": [
    "# Funciones auxiliares\n",
    "def obtener_vecinos(G, nodo):\n",
    "    # Obtención de los vecinos del nodo actual en el grafo\n",
    "    vecinos = []\n",
    "    for edge in G.edges:\n",
    "        if edge.source == nodo:\n",
    "            vecinos.append(edge.target)\n",
    "        elif edge.target == nodo:\n",
    "            vecinos.append(edge.source)\n",
    "    return vecinos"
   ]
  },
  {
   "cell_type": "code",
   "execution_count": 54,
   "metadata": {},
   "outputs": [],
   "source": [
    "def reconstruir_camino(inicio, meta, nodos_aux):\n",
    "    # Reconstrucción del camino desde el nodo inicial al final\n",
    "    camino = []\n",
    "    actual = meta\n",
    "    while actual != inicio:\n",
    "        camino.append(actual)\n",
    "        actual = G[actual]['parent']\n",
    "    camino.append(inicio)\n",
    "    camino.reverse()\n",
    "    return camino"
   ]
  },
  {
   "cell_type": "code",
   "execution_count": 56,
   "metadata": {},
   "outputs": [],
   "source": [
    "import matplotlib.pyplot as plt"
   ]
  },
  {
   "cell_type": "code",
   "execution_count": 48,
   "metadata": {},
   "outputs": [
    {
     "ename": "KeyError",
     "evalue": "'99005c1edb20e10d31d99eb60e6b2790'",
     "output_type": "error",
     "traceback": [
      "\u001b[1;31m---------------------------------------------------------------------------\u001b[0m",
      "\u001b[1;31mKeyError\u001b[0m                                  Traceback (most recent call last)",
      "Cell \u001b[1;32mIn[48], line 83\u001b[0m\n\u001b[0;32m     78\u001b[0m     node_size \u001b[38;5;241m=\u001b[39m [nodos_aux[node][\u001b[38;5;124m\"\u001b[39m\u001b[38;5;124msize\u001b[39m\u001b[38;5;124m\"\u001b[39m] \u001b[38;5;28;01mfor\u001b[39;00m node \u001b[38;5;129;01min\u001b[39;00m G\u001b[38;5;241m.\u001b[39mnodes]\n\u001b[0;32m     79\u001b[0m     \u001b[38;5;66;03m# Implementación de la lógica de visualización del grafo y el camino\u001b[39;00m\n\u001b[0;32m     80\u001b[0m     \u001b[38;5;66;03m# ...\u001b[39;00m\n\u001b[0;32m     81\u001b[0m \n\u001b[0;32m     82\u001b[0m \u001b[38;5;66;03m# Ejecuta el algoritmo A* y obtiene el camino\u001b[39;00m\n\u001b[1;32m---> 83\u001b[0m camino, nodos_aux \u001b[38;5;241m=\u001b[39m \u001b[43ma_estrella\u001b[49m\u001b[43m(\u001b[49m\u001b[43mG\u001b[49m\u001b[43m,\u001b[49m\u001b[43m \u001b[49m\u001b[43mG\u001b[49m\u001b[38;5;241;43m.\u001b[39;49m\u001b[43mnodes\u001b[49m\u001b[43m[\u001b[49m\u001b[43minicio\u001b[49m\u001b[43m]\u001b[49m\u001b[43m,\u001b[49m\u001b[43m \u001b[49m\u001b[43mG\u001b[49m\u001b[38;5;241;43m.\u001b[39;49m\u001b[43mnodes\u001b[49m\u001b[43m[\u001b[49m\u001b[43mmeta\u001b[49m\u001b[43m]\u001b[49m\u001b[43m)\u001b[49m\n\u001b[0;32m     85\u001b[0m \u001b[38;5;66;03m# Visualización del camino\u001b[39;00m\n\u001b[0;32m     86\u001b[0m \u001b[38;5;28;01mfor\u001b[39;00m edge \u001b[38;5;129;01min\u001b[39;00m G\u001b[38;5;241m.\u001b[39medges:\n",
      "Cell \u001b[1;32mIn[48], line 30\u001b[0m, in \u001b[0;36ma_estrella\u001b[1;34m(G, inicio, meta)\u001b[0m\n\u001b[0;32m     27\u001b[0m inicio_hash \u001b[38;5;241m=\u001b[39m obtener_hash(inicio)\n\u001b[0;32m     28\u001b[0m meta_hash \u001b[38;5;241m=\u001b[39m obtener_hash(meta)\n\u001b[1;32m---> 30\u001b[0m \u001b[43mnodos_aux\u001b[49m\u001b[43m[\u001b[49m\u001b[43minicio_hash\u001b[49m\u001b[43m]\u001b[49m[\u001b[38;5;124m'\u001b[39m\u001b[38;5;124msize\u001b[39m\u001b[38;5;124m'\u001b[39m] \u001b[38;5;241m=\u001b[39m \u001b[38;5;241m1\u001b[39m\n\u001b[0;32m     31\u001b[0m nodos_aux[meta_hash][\u001b[38;5;124m'\u001b[39m\u001b[38;5;124msize\u001b[39m\u001b[38;5;124m'\u001b[39m] \u001b[38;5;241m=\u001b[39m \u001b[38;5;241m1\u001b[39m\n\u001b[0;32m     33\u001b[0m \u001b[38;5;66;03m# Frontera y explorados\u001b[39;00m\n",
      "\u001b[1;31mKeyError\u001b[0m: '99005c1edb20e10d31d99eb60e6b2790'"
     ]
    }
   ],
   "source": [
    "# Visualización del camino\n",
    "def plot_graph(G, nodos_aux):\n",
    "    node_size = [nodos_aux[node][\"size\"] for node in G.nodes]\n",
    "    # Implementación de la lógica de visualización del grafo y el camino\n",
    "    # ...\n",
    "\n",
    "# Ejecuta el algoritmo A* y obtiene el camino\n",
    "camino, nodos_aux = a_estrella(G, G.nodes[inicio], G.nodes[meta])\n",
    "\n",
    "# Visualización del camino\n",
    "for edge in G.edges:\n",
    "    arista_no_visitada(edge)\n",
    "\n",
    "if camino is not None:\n",
    "    for i in range(len(camino) - 1):\n",
    "        arista_activa((camino[i], camino[i + 1]))\n",
    "    arista_solucion((camino[-2], camino[-1]))\n",
    "\n",
    "plot_graph(G, nodos_aux)"
   ]
  },
  {
   "cell_type": "markdown",
   "metadata": {},
   "source": [
    "### Ejecución y análisis"
   ]
  },
  {
   "cell_type": "markdown",
   "metadata": {},
   "source": [
    "Seleccionamos dos nodos del grafo al azar utilizando random:"
   ]
  },
  {
   "cell_type": "code",
   "execution_count": 19,
   "metadata": {},
   "outputs": [
    {
     "name": "stdout",
     "output_type": "stream",
     "text": [
      "Inicio: 4597668040\n",
      "Meta: 42444884\n"
     ]
    }
   ],
   "source": [
    "inicio = random.choice(list(G.nodes))\n",
    "print(f\"Inicio: {inicio}\")\n",
    "meta = random.choice(list(G.nodes))\n",
    "print(f\"Meta: {meta}\")"
   ]
  },
  {
   "cell_type": "markdown",
   "metadata": {},
   "source": [
    "\n",
    "*Pueden utilizar la funcion nearest_nodes para obtener los nodos más cercanos a un punto en el mapa"
   ]
  },
  {
   "cell_type": "code",
   "execution_count": 20,
   "metadata": {},
   "outputs": [],
   "source": [
    "# Ejecutar cada algoritmo acompañado de la grafica correspondiente\n",
    "# deberán crear una función que de estilos a las aristas que unen los nodos de la solución\n",
    "     "
   ]
  }
 ],
 "metadata": {
  "kernelspec": {
   "display_name": "Python 3",
   "language": "python",
   "name": "python3"
  },
  "language_info": {
   "codemirror_mode": {
    "name": "ipython",
    "version": 3
   },
   "file_extension": ".py",
   "mimetype": "text/x-python",
   "name": "python",
   "nbconvert_exporter": "python",
   "pygments_lexer": "ipython3",
   "version": "3.11.8"
  }
 },
 "nbformat": 4,
 "nbformat_minor": 2
}
